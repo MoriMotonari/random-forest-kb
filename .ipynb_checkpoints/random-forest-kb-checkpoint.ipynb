{
 "cells": [
  {
   "cell_type": "markdown",
   "metadata": {},
   "source": [
    "# random forest kobe bryant\n",
    "\n",
    "This project is inspired by Siraj Raval's [Video](https://www.youtube.com/watch?v=QHOazyP-YlM) and [notebook](https://github.com/llSourcell/random_forests/blob/master/Random%20Forests%20.ipynb) about random forests."
   ]
  },
  {
   "cell_type": "markdown",
   "metadata": {},
   "source": [
    "## gini index\n",
    "\n",
    "The gini index calculates a score for a split, that was done on the data. That score gives an idea how mixed the resulting groups are. If instances of only one category are in the group, the gini index is zero.\n",
    "\n",
    "The gini index of one group is calculated like this:\n",
    "\n",
    "```python\n",
    "gini = 1\n",
    "for c in categories:\n",
    "    count = group['category'].count(c)\n",
    "    gini -= count * count\n",
    "```"
   ]
  },
  {
   "cell_type": "code",
   "execution_count": 117,
   "metadata": {},
   "outputs": [],
   "source": [
    "import pandas as pd\n",
    "import numpy as np\n",
    "np.random.seed(0)"
   ]
  },
  {
   "cell_type": "markdown",
   "metadata": {},
   "source": [
    "## data processing"
   ]
  },
  {
   "cell_type": "code",
   "execution_count": 126,
   "metadata": {},
   "outputs": [],
   "source": [
    "data = pd.read_csv('data.csv')\n",
    "\n",
    "feature_type = {'action_type': 'cat',\n",
    "                'combined_shot_type': 'cat',\n",
    "                'game_event_id': 'num',\n",
    "                'game_id': 'num',\n",
    "                'lat': 'num',\n",
    "                'loc_x': 'num',\n",
    "                'loc_y': 'num',\n",
    "                'lon': 'num',\n",
    "                'minutes_remaining': 'num',\n",
    "                'period': 'cat',\n",
    "                'playoffs': 'cat',\n",
    "                'season': 'cat',\n",
    "                'seconds_remaining': 'num',\n",
    "                'shot_distance': 'num',\n",
    "                'shot_type': 'cat',\n",
    "                'shot_zone_area': 'cat',\n",
    "                'shot_zone_range': 'cat',\n",
    "                'team_id': 'cat',\n",
    "                'team_name': 'cat',\n",
    "                'game_date': 'cat',\n",
    "                'matchup': 'cat',\n",
    "                'opponent': 'cat'}"
   ]
  },
  {
   "cell_type": "code",
   "execution_count": 119,
   "metadata": {},
   "outputs": [],
   "source": [
    "# let's only take the data which is labeled\n",
    "data = data[pd.notna(data['shot_made_flag'])]\n",
    "data.rename(columns={'shot_made_flag': 'class'},\n",
    "            inplace=True)"
   ]
  },
  {
   "cell_type": "markdown",
   "metadata": {},
   "source": [
    "## helper functions"
   ]
  },
  {
   "cell_type": "code",
   "execution_count": 123,
   "metadata": {},
   "outputs": [],
   "source": [
    "def subsample(df, sample_size):\n",
    "    indexes = np.random.choice(df.index, sample_size)\n",
    "    return indexes, df.loc[indexes]\n",
    "\n",
    "def cross_validation_split(df, n_folds):\n",
    "    \"\"\"\n",
    "    returns n_folds dataframes out of df with equal length\n",
    "    df: pandas.DataFramn\n",
    "    n_folds: integer\n",
    "    \"\"\"\n",
    "    dfs = []\n",
    "    fold_size = int(len(df) / n_folds)\n",
    "    for i in range(n_folds):\n",
    "        indexes, fold = subsample(df, fold_size)\n",
    "        dfs.append(fold)\n",
    "        df.drop(indexes, inplace=True)\n",
    "    return dfs\n",
    "\n",
    "def split_by(df, feature, value, is_numerical=True):\n",
    "    \"\"\"\n",
    "    make the split of a decision tree node\n",
    "    df: pd.DataFrame\n",
    "    feature: column name (mostly string)\n",
    "    value: any\n",
    "    is_numerical: bool\n",
    "    return: (pd.DataFrame, pd.DataFrame)\n",
    "    \"\"\"\n",
    "    if is_numerical:\n",
    "        return df[df[feature] < value], df[df[feature] >= value]\n",
    "    else:\n",
    "        # categorical feature\n",
    "        return df[df[feature] == value], df[df[feature] != value]\n",
    "        \n",
    "def accuracy(predicted, target):\n",
    "    \"\"\"\n",
    "    return percentage of correctly predicted cases\n",
    "    predicted: np.array\n",
    "    target: np.array\n",
    "    return: float between 0 and 1\n",
    "    \"\"\"\n",
    "    assert len(predicted) == len(target)\n",
    "    return (predicted == target).sum() / len(predicted)"
   ]
  },
  {
   "cell_type": "code",
   "execution_count": null,
   "metadata": {},
   "outputs": [],
   "source": []
  }
 ],
 "metadata": {
  "kernelspec": {
   "display_name": "Python 3",
   "language": "python",
   "name": "python3"
  },
  "language_info": {
   "codemirror_mode": {
    "name": "ipython",
    "version": 3
   },
   "file_extension": ".py",
   "mimetype": "text/x-python",
   "name": "python",
   "nbconvert_exporter": "python",
   "pygments_lexer": "ipython3",
   "version": "3.7.1"
  }
 },
 "nbformat": 4,
 "nbformat_minor": 2
}
